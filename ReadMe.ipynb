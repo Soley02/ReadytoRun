{
 "cells": [
  {
   "cell_type": "markdown",
   "metadata": {},
   "source": [
    "# awesome-notebooks-ready-to-run\n",
    "A collection of AI related notebooks with links to view on NBViewer, and run on Colab, MyBinber.org, Azure Notebook and FloydHub.\n",
    "\n",
    "# Python 编程 \n",
    "\n",
    "Repo | nbviewer | MyBinder | Azure Notebook | Colab | FloydHub\n",
    "--- | --- | --- | ---| --- | --- \n",
    "A Whirlwind Tour of Python | [<img src=\"./images/nbviewer.png\" alt=\"nbviewer\" style=\"width: 20px;\"/>](https://nbviewer.jupyter.org/github/markusschanta/awesome-jupyter/tree/master/) | [<img src=\"./images/binder-logo.png\" alt=\"MyBinder\" style=\"width: 20px;\"/>](https://nbviewer.jupyter.org/github/markusschanta/awesome-jupyter/tree/master/) | [<img src=\"./images/Azure Notebooks.png\" alt=\"Azure Notebook\" style=\"width: 20px;\"/>](https://nbviewer.jupyter.org/github/markusschanta/awesome-jupyter/tree/master/) | [<img src=\"./images/colab-logo.png\" alt=\"colab\" style=\"width: 20px;\"/>](https://nbviewer.jupyter.org/github/markusschanta/awesome-jupyter/tree/master/) | [<img src=\"./images/FloydHub-logo.png\" alt=\"FloydHub\" style=\"width: 20px;\"/>](https://nbviewer.jupyter.org/github/markusschanta/awesome-jupyter/tree/master/)  \n",
    "fff | ggg| hhh | iii | 000|eee \n"
   ]
  },
  {
   "cell_type": "code",
   "execution_count": null,
   "metadata": {},
   "outputs": [],
   "source": []
  }
 ],
 "metadata": {
  "kernelspec": {
   "display_name": "Python 3",
   "language": "python",
   "name": "python3"
  },
  "language_info": {
   "codemirror_mode": {
    "name": "ipython",
    "version": 3
   },
   "file_extension": ".py",
   "mimetype": "text/x-python",
   "name": "python",
   "nbconvert_exporter": "python",
   "pygments_lexer": "ipython3",
   "version": "3.7.3"
  }
 },
 "nbformat": 4,
 "nbformat_minor": 2
}
